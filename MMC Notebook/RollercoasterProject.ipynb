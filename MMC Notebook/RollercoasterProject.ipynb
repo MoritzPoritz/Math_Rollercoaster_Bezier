{
 "cells": [
  {
   "cell_type": "markdown",
   "metadata": {},
   "source": [
    "# Dynamische Bezierinterpolation über eine definierte Anzahl zu einer stetig differenzierbaren, knickfreien und geschlossenen Kurve\n",
    "In dieser Hausarbeite wurde mittels der Bezierinterpolation eine Achterbahnkurve gezeichnet, die zwischen einem vorher definierten Track interpoliert. Die Anforderungen an diese Kurve waren eine mögliche dreifache Ableitung, Knick- und Ruckfreiheit. Entstanden ist die Hausarbeit in Ahnlehnung an das Achterbahn Projekt der TU-Braunschweig (LINK). "
   ]
  },
  {
   "cell_type": "code",
   "execution_count": 19,
   "metadata": {},
   "outputs": [],
   "source": [
    "import csv\n",
    "import os\n",
    "import numpy as np \n",
    "from sympy import *\n",
    "from scipy.integrate import RK45 \n",
    "import matplotlib.pyplot as plt\n",
    "import math\n",
    "%matplotlib qt\n",
    "#%matplotlib inline"
   ]
  },
  {
   "cell_type": "markdown",
   "metadata": {},
   "source": [
    "## Formel für die Krümmung am Zeitpunkt t\n",
    "Im Folgenden ist die Formel für die Krümmung einer regulären Kurve definiert:\n",
    "$\\kappa(t) = \\frac{\\dot c \\times \\ddot c}{\\|\\dot c \\|^3}$\n",
    "\n",
    "Diese definieren wir als eine Funktion, die uns eine Lambda-Funktion zurückliefert."
   ]
  },
  {
   "cell_type": "code",
   "execution_count": 20,
   "metadata": {},
   "outputs": [],
   "source": [
    " def curvature_at_t(bezier_cubic_first_deriv, bezier_cubic_second_deriv):\n",
    "    return lambda t: (np.cross((bezier_cubic_first_deriv(t)), (bezier_cubic_second_deriv(t)))) / np.power(np.linalg.norm(bezier_cubic_first_deriv(t)),3)"
   ]
  },
  {
   "cell_type": "markdown",
   "metadata": {},
   "source": [
    "## Formel für die Torsion zum Zeitpunkt t\n",
    "Im Folgenden ist die Formel für die Krümmung einer regulären Kurve definiert:\n",
    "\n",
    "$\\tau(t) = \\frac{(\\dot c \\times \\ddot c ) \\cdot \\dddot c}{\\| \\dot c \\times \\ddot c \\|^2}$\n",
    "\n",
    "Diese definieren wir als eine Funktion, die uns eine Lambda-Funktion zurückliefert."
   ]
  },
  {
   "cell_type": "code",
   "execution_count": 21,
   "metadata": {},
   "outputs": [],
   "source": [
    "def torsion_at_t(bezier_cubic_first_deriv, bezier_cubic_second_deriv, bezier_cubic_third_deriv):\n",
    "    return lambda t: (np.cross(bezier_cubic_first_deriv(t), bezier_cubic_second_deriv(t))*bezier_cubic_third_deriv(t)) \n",
    "    /np.power(np.norm(np.cross(bezier_cubic_first_deriv(t), bezier_cubic_second_deriv(t))),2)"
   ]
  },
  {
   "cell_type": "markdown",
   "metadata": {},
   "source": [
    "## Formeln für Frenet-Dreibein\n",
    "Das Frenet-Dreibein entlang der Achterbahnkurve zeichnen wir mittels des Tangentialvektors, der Binormalverkotrs und des Normalvektors."
   ]
  },
  {
   "cell_type": "markdown",
   "metadata": {},
   "source": [
    "### Formel für den Tangentialvektor"
   ]
  },
  {
   "cell_type": "code",
   "execution_count": 22,
   "metadata": {},
   "outputs": [],
   "source": [
    "def tangent_at_t(bezier_cubic_first_deriv):\n",
    "    return lambda t: bezier_cubic_first_deriv(t) / np.linalg.norm(bezier_cubic_first_deriv(t))"
   ]
  },
  {
   "cell_type": "markdown",
   "metadata": {},
   "source": [
    "### Formel für den Binormalvektor"
   ]
  },
  {
   "cell_type": "code",
   "execution_count": 23,
   "metadata": {},
   "outputs": [],
   "source": [
    "def binormal_at_t(bezier_cubic_first_deriv, bezier_cubic_second_deriv):\n",
    "    return lambda t: np.cross(bezier_cubic_first_deriv(t), bezier_cubic_second_deriv(t)) / np.linalg.norm(np.cross(bezier_cubic_first_deriv(t), bezier_cubic_second_deriv(t)))"
   ]
  },
  {
   "cell_type": "markdown",
   "metadata": {},
   "source": [
    "### Formel für den Normalenvektor"
   ]
  },
  {
   "cell_type": "code",
   "execution_count": 24,
   "metadata": {},
   "outputs": [],
   "source": [
    "def normal_at_t(tangent_at_t, binormal_at_t):\n",
    "    return lambda t: np.cross(binormal_at_t(t), tangent_at_t(t))"
   ]
  },
  {
   "cell_type": "markdown",
   "metadata": {},
   "source": [
    "## Einlesen oder Erzeugen der Punkte\n",
    "Um Samples für die Bezierinterpolation zu erstellen, stehen in diesem Programm mehrere Möglichkeiten zur Auswahl. Zum einen können diese völlig zufällig erstellt werden. In diesem Fall übergeben wir der Funktion create_points einfach einen leeren String. Außerdem lassen sich vorher definierte Track-Dateien einlesen. Hierfür muss der Funktion create_points der Pfad zu der entsprechenden Track-Datei übergeben werden.\n",
    "\n",
    "Zu guter letzt können die Punkte auch aus einem Torusknoten gesampelt werden. Hierfür muss der Funktion create_points lediglich der String \"Torus\" übergeben werden."
   ]
  },
  {
   "cell_type": "code",
   "execution_count": 25,
   "metadata": {},
   "outputs": [],
   "source": [
    "def create_points_2(filename):\n",
    "    if (filename != \"\"):\n",
    "        script_dir = os.path.dirname(filename+'.trk')\n",
    "        rel_path = filename+'.trk'\n",
    "        abs_file_path = os.path.join(script_dir, rel_path)\n",
    "        points = []\n",
    "        file = open(abs_file_path,'r')  \n",
    "        nextRowIsCount = False\n",
    "        sampleCount = 0\n",
    "        for row in file:\n",
    "            if (int(row) == \"Track\"):\n",
    "                nextRowIsCount = True\n",
    "            if (nextRowIsCount):\n",
    "              sampleCount = int(row)  \n",
    "            print(\"#\" + row)\n",
    "            \n",
    "    else: \n",
    "        #points = np.random.randfloat(10,3) * 3\n",
    "        points = np.random.uniform(-10,10,[5,3])\n",
    "    return points"
   ]
  },
  {
   "cell_type": "code",
   "execution_count": 26,
   "metadata": {},
   "outputs": [
    {
     "ename": "ValueError",
     "evalue": "invalid literal for int() with base 10: 'Track\\n'",
     "output_type": "error",
     "traceback": [
      "\u001b[1;31m---------------------------------------------------------------------------\u001b[0m",
      "\u001b[1;31mValueError\u001b[0m                                Traceback (most recent call last)",
      "\u001b[1;32m<ipython-input-26-15cfbaa7762f>\u001b[0m in \u001b[0;36m<module>\u001b[1;34m\u001b[0m\n\u001b[1;32m----> 1\u001b[1;33m \u001b[0mcreate_points_2\u001b[0m\u001b[1;33m(\u001b[0m\u001b[1;34m'test'\u001b[0m\u001b[1;33m)\u001b[0m\u001b[1;33m\u001b[0m\u001b[1;33m\u001b[0m\u001b[0m\n\u001b[0m",
      "\u001b[1;32m<ipython-input-25-f3e147e74f3e>\u001b[0m in \u001b[0;36mcreate_points_2\u001b[1;34m(filename)\u001b[0m\n\u001b[0;32m      9\u001b[0m         \u001b[0msampleCount\u001b[0m \u001b[1;33m=\u001b[0m \u001b[1;36m0\u001b[0m\u001b[1;33m\u001b[0m\u001b[1;33m\u001b[0m\u001b[0m\n\u001b[0;32m     10\u001b[0m         \u001b[1;32mfor\u001b[0m \u001b[0mrow\u001b[0m \u001b[1;32min\u001b[0m \u001b[0mfile\u001b[0m\u001b[1;33m:\u001b[0m\u001b[1;33m\u001b[0m\u001b[1;33m\u001b[0m\u001b[0m\n\u001b[1;32m---> 11\u001b[1;33m             \u001b[1;32mif\u001b[0m \u001b[1;33m(\u001b[0m\u001b[0mint\u001b[0m\u001b[1;33m(\u001b[0m\u001b[0mrow\u001b[0m\u001b[1;33m)\u001b[0m \u001b[1;33m==\u001b[0m \u001b[1;34m\"Track\"\u001b[0m\u001b[1;33m)\u001b[0m\u001b[1;33m:\u001b[0m\u001b[1;33m\u001b[0m\u001b[1;33m\u001b[0m\u001b[0m\n\u001b[0m\u001b[0;32m     12\u001b[0m                 \u001b[0mnextRowIsCount\u001b[0m \u001b[1;33m=\u001b[0m \u001b[1;32mTrue\u001b[0m\u001b[1;33m\u001b[0m\u001b[1;33m\u001b[0m\u001b[0m\n\u001b[0;32m     13\u001b[0m             \u001b[1;32mif\u001b[0m \u001b[1;33m(\u001b[0m\u001b[0mnextRowIsCount\u001b[0m\u001b[1;33m)\u001b[0m\u001b[1;33m:\u001b[0m\u001b[1;33m\u001b[0m\u001b[1;33m\u001b[0m\u001b[0m\n",
      "\u001b[1;31mValueError\u001b[0m: invalid literal for int() with base 10: 'Track\\n'"
     ]
    }
   ],
   "source": [
    "create_points_2('test')"
   ]
  },
  {
   "cell_type": "code",
   "execution_count": 27,
   "metadata": {},
   "outputs": [],
   "source": [
    "def create_points(filename):\n",
    "    if (filename != \"\"):\n",
    "        script_dir = os.path.dirname(filename+'.csv')\n",
    "        rel_path = filename+'.csv'\n",
    "        abs_file_path = os.path.join(script_dir, rel_path)\n",
    "        points = []\n",
    "        with open(abs_file_path, newline='') as csvfile:\n",
    "            csvreader = csv.reader(csvfile, delimiter=\",\")\n",
    "            \n",
    "            for row in csvreader:\n",
    "                points.append(np.array([row[0], row[1], row[2]], dtype=float))\n",
    "        \n",
    "        points = np.array(points)\n",
    "    else: \n",
    "        #points = np.random.randfloat(10,3) * 3\n",
    "        points = np.random.uniform(-10,10,[5,3])\n",
    "    return points"
   ]
  },
  {
   "cell_type": "markdown",
   "metadata": {},
   "source": [
    "## Erzeugen der Bezier-Coeffizienten\n",
    "Die Funktion für eine kubische Bezierkurve ist wie folgt definiert:\n",
    "\n",
    "$B(s) = (1-s)^3[\\begin{array}{c}p$\n",
    "\n",
    "Hierbei ist sie über vier punkte definiert. \n",
    "\n",
    "$p_0,p_1,p_2,p_3$\n",
    "\n",
    "Wobei die Splines der Bezierkurve durch $p_1$ und $p_2$ und die Samplepunkte jeweils als die Punkte $p_0$ und $p_3$ definiert sind. Letztere kennen wir, sie sind die Punkte, die wir mit der Funktion create_points erhalten. Nun gilt es die Punkte $p_1$ und $p_2$ für die jeweilige Bezierkurve herauszufinden. Hierfür stellen wir einen Lineares Gleichungssystem aus den Folgenden Bedingungen auf:\n",
    "\n"
   ]
  },
  {
   "cell_type": "code",
   "execution_count": 28,
   "metadata": {},
   "outputs": [],
   "source": [
    "\n",
    "\n",
    "def get_bezier_coef(points):\n",
    "    C = np.zeros((len(points), len(points)), dtype=float)\n",
    "    # Create coefficent matrix\n",
    "    for i, row in enumerate(C):\n",
    "        math_i = i \n",
    "        a_i_index = math_i % len(points)\n",
    "        a_i_one = (math_i+1) % len(points) \n",
    "        a_i_two = (math_i+2) % len(points) \n",
    "\n",
    "        C[i,a_i_index] = 1\n",
    "        C[i,a_i_one] = 4\n",
    "        C[i,a_i_two] = 1\n",
    "    # letzte zeile setzen\n",
    "     \n",
    "    # Build points vector    \n",
    "    P = np.array([4 * points[(i+1) % len(points)] + 2* points[(i+2)%len(points)] for i in range(len(points))], dtype=float)\n",
    "\n",
    "    #P[n] = np.array(4* points[0] + 2*points[1])\n",
    "    P = np.array(P)\n",
    "    A = np.array(np.linalg.solve(C, P),  dtype=float)\n",
    "    \n",
    "    B = np.zeros((len(points),3), dtype=float)\n",
    "\n",
    "    for i in range(len(points)):\n",
    "        B[i] = 2 * points[(i+1) % len(points)] - A[(i+1) % len(points)]\n",
    "    #B[n] = (A[n] + points[n]) / 2\n",
    "    \n",
    "    return A,B\n",
    "\n",
    "def get_gravity():\n",
    "    return np.array([0,0,1]) \n",
    "\n",
    "def get_mass():\n",
    "    return 20\n",
    "\n",
    "# returns the general Bezier cubic formula given 4 control points\n",
    "def bezier_cubic(p0, p1, p2, p3):\n",
    "    return lambda t: np.power(1 - t, 3) * p0 + 3 * np.power(1 - t, 2) * t * p1 + 3 * (1 - t) * np.power(t, 2) * p2 + np.power(t, 3) * p3\n",
    "\n",
    "# first derivative of the berzier curve formula\n",
    "def bezier_cubic_first_deriv(p0, p1, p2, p3):\n",
    "    return lambda t: -3*p0*np.power(1 - t, 2) + 3*p1*np.power(1 - t, 2) - 6*p1*(1 - t) * t + 6 * p2*(1 - t) * t - 3 * p2 * np.power(t,2) + 3*p3 * np.power(t,2)\n",
    "\n",
    "# seconds derivative of the berzier curve formula\n",
    "def bezier_cubic_second_deriv(p0, p1, p2, p3):\n",
    "    return lambda t: 6 * p0 * (1 - t) - 12 * p1 * (1 - t) + 6 * p1 * t + 6 * p2 * (1 - t) - 12 * p2 * t + 6 * p3 * t\n",
    "\n",
    "# third derivative of the bezier curve formular\n",
    "def bezier_cubic_third_deriv(p0, p1, p2, p3):\n",
    "    return lambda t: -6*p0 + 12*p1 + 6*p1 -6*p2 - 12*p2 + 6*p3\n",
    "\n",
    "\n",
    "# euclidian norm\n",
    "def euclidean_norm(bezier_cubic_first_deriv):\n",
    "    return lambda t: np.linalg.norm(bezier_cubic_first_deriv(t), ord=2)\n",
    "    \n",
    "\n",
    "def get_distance_betweem(p0, p1):\n",
    "    return p1 - p0\n",
    "\n",
    "\n",
    "def get_all_functions(points):\n",
    "    A, B = get_bezier_coef(points)\n",
    "    \n",
    "    # cubics\n",
    "    bezier_cubics = [bezier_cubic(points[i], A[i], B[i], points[(i + 1)% len(points)]) for i in range(len(points))]\n",
    "    bezier_cubics_first_deriv = [bezier_cubic_first_deriv(points[i], A[i], B[i], points[(i + 1)% len(points)]) for i in range(len(points))]\n",
    "    bezier_cubics_second_deriv = [bezier_cubic_second_deriv(points[i], A[i], B[i], points[(i + 1)% len(points)]) for i in range(len(points))]\n",
    "    bezier_cubics_third_deriv = [bezier_cubic_third_deriv(points[i], A[i], B[i], points[(i + 1)% len(points)]) for i in range(len(points))]\n",
    "    # Curvature and torsion\n",
    "    curvature = [curvature_at_t(bezier_cubics_first_deriv[i], bezier_cubics_second_deriv[i]) for i in range(len(points))]\n",
    "    torsion = [torsion_at_t(bezier_cubics_first_deriv[i], bezier_cubics_second_deriv[i], bezier_cubics_third_deriv[i])for i in range(len(points))]\n",
    "    #Frenet dreibein\n",
    "    tangent = [tangent_at_t(bezier_cubics_first_deriv[i]) for i in range(len(points))]\n",
    "    binormal = [binormal_at_t(bezier_cubics_first_deriv[i], bezier_cubics_second_deriv[i]) for i in range(len(points))]\n",
    "    normal = [normal_at_t(tangent[i], binormal[i]) for i in range(len(points))]\n",
    "    # Get new functions\n",
    "    #energy_functions = [energy(bezier_cubics[i], bezier_cubics_first_deriv[i]) for i in range(len(points))]\n",
    "    #parametric_velocity_functions = [parametric_velocity(energy_functions[i], bezier_cubics[i], bezier_cubics_first_deriv[i]) for i in range(len(points))]\n",
    "    #parametric_acceleration_functions = [parametric_acceleration(bezier_cubics[i], parametric_velocity_functions[i], bezier_cubics_first_deriv[i], bezier_cubics_second_deriv[i]) for i in range(len(points))]\n",
    "    \n",
    "    all_functions = {\n",
    "        'bezier_cubics': bezier_cubics,\n",
    "        'bezier_cubics_first_deriv': bezier_cubics_first_deriv, \n",
    "        'bezier_cubics_second_deriv': bezier_cubics_second_deriv,\n",
    "        'bezier_cubics_third_deriv': bezier_cubics_third_deriv,\n",
    "        'curvature': curvature, \n",
    "        'torsion': torsion,\n",
    "        'tangent': tangent,\n",
    "        'binormal': binormal,\n",
    "        'normal': normal\n",
    "        \n",
    "        #'energy_functions': energy_functions,\n",
    "        #'parametric_velocity_functions': parametric_velocity_functions,\n",
    "        #'parametric_acceleration_functions': parametric_acceleration_functions\n",
    "    }\n",
    "    \n",
    "    return all_functions\n",
    "    \n",
    "# evalute each cubic curve on the range [0, 1] sliced in n points\n",
    "def evaluate_bezier(points, n):\n",
    "    curves = get_all_functions(points)['bezier_cubics']\n",
    "    return np.array([fun(t) for fun in curves for t in np.linspace(0, 1, n)])\n",
    "\n",
    "def get_all_curve_data(all_curve_functions, n, sample_count=100):\n",
    "    curve_points = []\n",
    "    curve_speeds = []\n",
    "    curve_accelerations = []\n",
    "    curve_jolt = []\n",
    "    curve_curvature = []\n",
    "    curve_torsion = []\n",
    "    curve_tangent = []\n",
    "    curve_binormal = []\n",
    "    curve_normal = []\n",
    "    \n",
    "    ts = []\n",
    "        \n",
    "    length_of_curve_at_t = []\n",
    "    \n",
    "    last_length = 0\n",
    "    last_curve_point = all_curve_functions['bezier_cubics'][0](0)\n",
    "\n",
    "    for t in np.linspace(0, n, sample_count * n):\n",
    "        ts.append(t)\n",
    "        seperated_t = math.modf(t%n)\n",
    "        segment_index = int(seperated_t[1])\n",
    "        curve_index = seperated_t[0]\n",
    "        # here calculate all the values for the current t\n",
    "        # curve point (pure geometry)\n",
    "        current_curve_point = all_curve_functions['bezier_cubics'][segment_index](curve_index) \n",
    "        curve_points.append(current_curve_point)\n",
    "        #speed at t\n",
    "        curve_speeds.append(all_curve_functions['bezier_cubics_first_deriv'][segment_index](curve_index))\n",
    "        #acceleration at t\n",
    "        curve_accelerations.append(all_curve_functions['bezier_cubics_second_deriv'][segment_index](curve_index))\n",
    "        # jolt (ruck) at t\n",
    "        curve_jolt.append(all_curve_functions['bezier_cubics_third_deriv'][segment_index](curve_index))\n",
    "        \n",
    "        # curvature at t\n",
    "        curve_curvature.append(all_curve_functions['curvature'][segment_index](curve_index))\n",
    "        # torsion at t\n",
    "        curve_torsion.append(all_curve_functions['torsion'][segment_index](curve_index))\n",
    "                \n",
    "        # Frenet Dreibein\n",
    "        curve_tangent.append(all_curve_functions['tangent'][segment_index](curve_index))\n",
    "        curve_binormal.append(all_curve_functions['binormal'][segment_index](curve_index))\n",
    "        curve_normal.append(all_curve_functions['normal'][segment_index](curve_index))\n",
    "    \n",
    "        # get approximated length of the curve at t\n",
    "        current_length = abs(float(np.linalg.norm(current_curve_point - last_curve_point)))\n",
    "\n",
    "        total_length = last_length + current_length\n",
    "        last_curve_point = current_curve_point\n",
    "\n",
    "        length_of_curve_at_t.append(total_length)\n",
    "        #last_euclidean_norm = current_euclidean_norm\n",
    "        last_length = total_length\n",
    "    # create an index I evenly distributet over the Length Values         \n",
    "    i_max = n\n",
    "    I = []\n",
    "    total = length_of_curve_at_t[len(length_of_curve_at_t)-1]\n",
    "   \n",
    "\n",
    "    for loc in length_of_curve_at_t:\n",
    "        percentage = loc/total\n",
    "        I.append(round(n*percentage,10))\n",
    "            \n",
    "    curve_data = {\n",
    "        'geometry': np.array(curve_points),\n",
    "        'speed': np.array(curve_speeds),\n",
    "        'acceleration': np.array(curve_accelerations),\n",
    "        'jolt': np.array(curve_jolt),\n",
    "        'curvature': np.array(curve_curvature),\n",
    "        'torsion': np.array(curve_torsion),\n",
    "        'tangent': np.array(curve_tangent),\n",
    "        'binormal': np.array(curve_binormal),\n",
    "        'normal': np.array(curve_normal),\n",
    "        'ts': np.array(ts),\n",
    "        'curve_length': np.array(length_of_curve_at_t)\n",
    "    }\n",
    "    return curve_data\n",
    "\n",
    "    "
   ]
  },
  {
   "cell_type": "markdown",
   "metadata": {},
   "source": [
    "# Reading the points"
   ]
  },
  {
   "cell_type": "code",
   "execution_count": 30,
   "metadata": {},
   "outputs": [],
   "source": [
    "samples = create_points(\"\")\n",
    "n = len(samples)\n"
   ]
  },
  {
   "cell_type": "markdown",
   "metadata": {},
   "source": [
    "## Berechnen aller Funktionen für die einzelnen Kurvenstücke"
   ]
  },
  {
   "cell_type": "code",
   "execution_count": 31,
   "metadata": {},
   "outputs": [],
   "source": [
    "all_curve_functions = get_all_functions(samples)\n"
   ]
  },
  {
   "cell_type": "markdown",
   "metadata": {},
   "source": [
    "### Generieren der Kurvendaten"
   ]
  },
  {
   "cell_type": "code",
   "execution_count": 32,
   "metadata": {},
   "outputs": [],
   "source": [
    "data = get_all_curve_data(all_curve_functions, n)\n",
    "curves = data['geometry']\n",
    "curves_x = curves[0:len(curves), 0]\n",
    "curves_y = curves[0:len(curves), 1]\n",
    "curves_z = curves[0:len(curves), 2]"
   ]
  },
  {
   "cell_type": "markdown",
   "metadata": {},
   "source": [
    "# Animieren der Achterbahn\n",
    "In diesem Abschnitt animieren und zeichnen wir die Achterbahn und die Achterbahnkurve. Zusätzlich zu der Achterbahn, welche im Animierten Graphen durch eine Kugel dargestellt wird, zeichnen wir die folgenden Werte für jeden Punkt $t$ ein:\n",
    "* "
   ]
  },
  {
   "cell_type": "code",
   "execution_count": 33,
   "metadata": {},
   "outputs": [],
   "source": [
    "import matplotlib.pyplot as plt\n",
    "import mpl_toolkits.mplot3d.axes3d as p3\n",
    "import matplotlib.animation as animation"
   ]
  },
  {
   "cell_type": "code",
   "execution_count": 34,
   "metadata": {},
   "outputs": [],
   "source": [
    "# 3d figure for showing the rollercoaster\n",
    "fig = plt.figure()\n",
    "#ax = p3.Axes3D(fig)\n",
    "ax = fig.add_subplot(projection='3d')\n",
    "ax.set_xlabel(\"X\")\n",
    "ax.set_ylabel(\"Y\")\n",
    "ax.set_zlabel(\"Z\")\n",
    "ax.set_xlim3d(-10, 10)\n",
    "ax.set_ylim3d(-10, 10)\n",
    "ax.set_zlim3d(-10, 10)\n",
    "#ax.legend()\n",
    "track = plt.plot(curves_x, curves_y, curves_z, 'b')\n",
    "\n",
    "tangent_vector = plt.quiver(0,0,0,0,0,0)\n",
    "binormal_vector = plt.quiver(0,0,0,0,0,0)\n",
    "normal_vector = plt.quiver(0,0,0,0,0,0)\n",
    "#calculate the curvedata\n",
    "\n",
    "def func(num, data, rollercoaster):\n",
    "    x = data['geometry'][num, 0]\n",
    "    y = data['geometry'][num, 1]\n",
    "    z = data['geometry'][num, 2]\n",
    "    rollercoaster.set_data(x,y)\n",
    "    rollercoaster.set_3d_properties(z)\n",
    "\n",
    "    # Plotting the Tangential vector\n",
    "    u_tang = data['tangent'][num, 0]\n",
    "    v_tang = data['tangent'][num, 1]\n",
    "    w_tang = data['tangent'][num, 2]\n",
    "    \n",
    "    global tangent_vector\n",
    "    tangent_vector.remove()\n",
    "    tangent_vector = plt.quiver(x,y,z, u_tang, v_tang, w_tang,color='g')\n",
    "    \n",
    "    # Plotting the binormal vector\n",
    "    u_bin = data['binormal'][num, 0]\n",
    "    v_bin = data['binormal'][num, 1]\n",
    "    w_bin = data['binormal'][num, 2]\n",
    "    \n",
    "    global binormal_vector\n",
    "    binormal_vector.remove()\n",
    "    binormal_vector = plt.quiver(x,y,z, u_bin, v_bin, w_bin, color='r')\n",
    "    \n",
    "    #Plotting the normal vector\n",
    "    u_nor = data['normal'][num, 0]\n",
    "    v_nor = data['normal'][num, 1]\n",
    "    w_nor = data['normal'][num, 2]\n",
    "    \n",
    "    global normal_vector\n",
    "    normal_vector.remove()\n",
    "    normal_vector = plt.quiver(x,y,z, u_nor, v_nor, w_nor, color='b')\n",
    "    \n",
    "    \n",
    "n = len(curves)\n",
    "\n",
    "rollercoaster, = plt.plot([curves[0,0]], [curves[0,1]], [curves[0,2]], lw=0.5, c='r', marker='o')\n",
    "\n",
    "ani = animation.FuncAnimation(fig, func, frames=n, fargs=(data, rollercoaster), interval=1000/n, blit=False)\n",
    "\n",
    "plt.show()"
   ]
  },
  {
   "cell_type": "markdown",
   "metadata": {},
   "source": [
    "## Plotten von Geschwindigkeit und Beschleuningung\n"
   ]
  },
  {
   "cell_type": "markdown",
   "metadata": {},
   "source": [
    "### Bereinigen der Daten"
   ]
  },
  {
   "cell_type": "code",
   "execution_count": 35,
   "metadata": {},
   "outputs": [],
   "source": [
    "# Calculation of the norm of the tempo\n",
    "tempo_norm = []\n",
    "for s in data['speed']:\n",
    "    tempo_norm.append(np.linalg.norm(s))\n",
    "    \n",
    "# Calculation of the norm of the tempo\n",
    "acceleration_norm = []\n",
    "for a in data['acceleration']:\n",
    "    acceleration_norm.append(np.linalg.norm(a))"
   ]
  },
  {
   "cell_type": "code",
   "execution_count": 36,
   "metadata": {},
   "outputs": [],
   "source": [
    "fig, axs = plt.subplots(5, 1)\n",
    "\n",
    "# Set the x axis to max t value\n",
    "for ax in axs:\n",
    "    ax.set_xlim(0, data['ts'][len(data['ts'])-1])\n",
    "    ax.set_xlabel('time')\n",
    "\n",
    "# curve first deriv - tempo\n",
    "axs[0].set_ylabel('Tempo')\n",
    "axs[0].plot(data['ts'], data['speed'][:,0], label='x', c='r')\n",
    "axs[0].plot(data['ts'], data['speed'][:,1], label='y', c='g')\n",
    "axs[0].plot(data['ts'], data['speed'][:,2], label='z', c='b')\n",
    "\n",
    "# curve second deriv - acceleration\n",
    "axs[1].set_ylabel('Beschleunigung')\n",
    "axs[1].plot(data['ts'], data['acceleration'][:,0], label='x', c='r')\n",
    "axs[1].plot(data['ts'], data['acceleration'][:,1], label='y', c='g')\n",
    "axs[1].plot(data['ts'], data['acceleration'][:,2], label='z', c='b')\n",
    "\n",
    "# curve third deriv - jolt\n",
    "axs[2].set_ylabel('Ruck')\n",
    "axs[2].plot(data['ts'], data['jolt'][:,0], label='x', c='r')\n",
    "axs[2].plot(data['ts'], data['jolt'][:,1], label='y', c='g')\n",
    "axs[2].plot(data['ts'], data['jolt'][:,2], label='z', c='b')\n",
    "\n",
    "# curvature\n",
    "axs[3].set_ylabel('Krümmung')\n",
    "axs[3].plot(data['ts'], data['curvature'][:,0], label='x', c='r')\n",
    "axs[3].plot(data['ts'], data['curvature'][:,1], label='y', c='g')\n",
    "axs[3].plot(data['ts'], data['curvature'][:,2], label='z', c='b')\n",
    "\n",
    "# torsion \n",
    "axs[4].set_ylabel('Torsion')\n",
    "axs[4].plot(data['ts'], data['torsion'][:,0], label='x', c='r')\n",
    "axs[4].plot(data['ts'], data['torsion'][:,1], label='y', c='g')\n",
    "axs[4].plot(data['ts'], data['torsion'][:,2], label='z', c='b')\n",
    "\n",
    "\n",
    "plt.show()"
   ]
  },
  {
   "cell_type": "markdown",
   "metadata": {},
   "source": [
    "# Runge Kutta Verfahren"
   ]
  },
  {
   "cell_type": "code",
   "execution_count": 17,
   "metadata": {},
   "outputs": [
    {
     "ename": "NameError",
     "evalue": "name 'acceleration' is not defined",
     "output_type": "error",
     "traceback": [
      "\u001b[1;31m---------------------------------------------------------------------------\u001b[0m",
      "\u001b[1;31mNameError\u001b[0m                                 Traceback (most recent call last)",
      "\u001b[1;32m<ipython-input-17-94d466b2429f>\u001b[0m in \u001b[0;36m<module>\u001b[1;34m\u001b[0m\n\u001b[1;32m----> 1\u001b[1;33m \u001b[0macc\u001b[0m \u001b[1;33m=\u001b[0m \u001b[0macceleration\u001b[0m\u001b[1;33m(\u001b[0m\u001b[0mall_curve_functions\u001b[0m\u001b[1;33m[\u001b[0m\u001b[1;34m'bezier_cubics_first_deriv'\u001b[0m\u001b[1;33m]\u001b[0m\u001b[1;33m[\u001b[0m\u001b[1;36m0\u001b[0m\u001b[1;33m]\u001b[0m\u001b[1;33m,\u001b[0m \u001b[0mall_curve_functions\u001b[0m\u001b[1;33m[\u001b[0m\u001b[1;34m'bezier_cubics_second_deriv'\u001b[0m\u001b[1;33m]\u001b[0m\u001b[1;33m[\u001b[0m\u001b[1;36m0\u001b[0m\u001b[1;33m]\u001b[0m\u001b[1;33m)\u001b[0m\u001b[1;33m\u001b[0m\u001b[1;33m\u001b[0m\u001b[0m\n\u001b[0m",
      "\u001b[1;31mNameError\u001b[0m: name 'acceleration' is not defined"
     ]
    }
   ],
   "source": [
    "acc = acceleration(all_curve_functions['bezier_cubics_first_deriv'][0], all_curve_functions['bezier_cubics_second_deriv'][0])"
   ]
  },
  {
   "cell_type": "code",
   "execution_count": 18,
   "metadata": {},
   "outputs": [
    {
     "ename": "SyntaxError",
     "evalue": "unexpected EOF while parsing (<ipython-input-18-9c6e3622cf10>, line 12)",
     "output_type": "error",
     "traceback": [
      "\u001b[1;36m  File \u001b[1;32m\"<ipython-input-18-9c6e3622cf10>\"\u001b[1;36m, line \u001b[1;32m12\u001b[0m\n\u001b[1;33m    \u001b[0m\n\u001b[1;37m    ^\u001b[0m\n\u001b[1;31mSyntaxError\u001b[0m\u001b[1;31m:\u001b[0m unexpected EOF while parsing\n"
     ]
    }
   ],
   "source": [
    "# f = ode, x0 = initial condition, t0 = initial time, tf = final time, dt = sample time\n",
    "def RungeKutta45(f, x0, t0, tf, dt):\n",
    "    t = np.arange(t0, tf, dt)\n",
    "    nt = t.size\n",
    "    \n",
    "    nx = x0.size\n",
    "    x = np.zeros((nx, nt))\n",
    "    \n",
    "    x[:,0] = x0\n",
    "    for k in range(nt - 1):\n",
    "        \n",
    "    "
   ]
  },
  {
   "cell_type": "code",
   "execution_count": 51,
   "metadata": {},
   "outputs": [],
   "source": [
    "t0 = 0\n",
    "y0 = all_curve_functions['bezier_cubics_first_deriv'][0](0)\n",
    "t_bound = 1\n",
    "\n",
    "Vel = RK45(acc, t0, y0, t_bound)\n"
   ]
  },
  {
   "cell_type": "code",
   "execution_count": 52,
   "metadata": {},
   "outputs": [
    {
     "data": {
      "text/plain": [
       "35"
      ]
     },
     "execution_count": 52,
     "metadata": {},
     "output_type": "execute_result"
    }
   ],
   "source": [
    "acc_ts = []\n",
    "velocities = []\n",
    "for i in range(100):\n",
    "    # get solution step state\n",
    "    Vel.step()\n",
    "    acc_ts.append(Vel.t)\n",
    "    velocities.append(Vel.y)\n",
    "    # break loop after modeling is finished\n",
    "    if Vel.status == 'finished':\n",
    "        break\n",
    "            \n",
    "#velocities\n",
    "len(acc_ts)"
   ]
  },
  {
   "cell_type": "code",
   "execution_count": 15,
   "metadata": {},
   "outputs": [],
   "source": [
    "def get_vel_approximated(approximated_velocities, acc_ts):\n",
    "    return lambda t,s: approximated_velocities[acc_ts.index(t)]"
   ]
  },
  {
   "cell_type": "code",
   "execution_count": 16,
   "metadata": {},
   "outputs": [
    {
     "ename": "NameError",
     "evalue": "name 'acc_ts' is not defined",
     "output_type": "error",
     "traceback": [
      "\u001b[1;31m---------------------------------------------------------------------------\u001b[0m",
      "\u001b[1;31mNameError\u001b[0m                                 Traceback (most recent call last)",
      "\u001b[1;32m<ipython-input-16-ec4db89ca371>\u001b[0m in \u001b[0;36m<module>\u001b[1;34m\u001b[0m\n\u001b[0;32m      2\u001b[0m \u001b[0my0_vel\u001b[0m  \u001b[1;33m=\u001b[0m \u001b[0mall_curve_functions\u001b[0m\u001b[1;33m[\u001b[0m\u001b[1;34m'bezier_cubics'\u001b[0m\u001b[1;33m]\u001b[0m\u001b[1;33m[\u001b[0m\u001b[1;36m0\u001b[0m\u001b[1;33m]\u001b[0m\u001b[1;33m(\u001b[0m\u001b[1;36m0\u001b[0m\u001b[1;33m)\u001b[0m\u001b[1;33m\u001b[0m\u001b[1;33m\u001b[0m\u001b[0m\n\u001b[0;32m      3\u001b[0m \u001b[0mt_bound_vel\u001b[0m \u001b[1;33m=\u001b[0m \u001b[1;36m1\u001b[0m\u001b[1;33m\u001b[0m\u001b[1;33m\u001b[0m\u001b[0m\n\u001b[1;32m----> 4\u001b[1;33m \u001b[0mPos\u001b[0m \u001b[1;33m=\u001b[0m \u001b[0mRK45\u001b[0m\u001b[1;33m(\u001b[0m\u001b[0mget_vel_approximated\u001b[0m\u001b[1;33m(\u001b[0m\u001b[0mvelocities\u001b[0m\u001b[1;33m,\u001b[0m \u001b[0macc_ts\u001b[0m\u001b[1;33m)\u001b[0m\u001b[1;33m,\u001b[0m \u001b[0mt0_vel\u001b[0m\u001b[1;33m,\u001b[0m \u001b[0my0_vel\u001b[0m\u001b[1;33m,\u001b[0m \u001b[0mt_bound_vel\u001b[0m\u001b[1;33m)\u001b[0m\u001b[1;33m\u001b[0m\u001b[1;33m\u001b[0m\u001b[0m\n\u001b[0m",
      "\u001b[1;31mNameError\u001b[0m: name 'acc_ts' is not defined"
     ]
    }
   ],
   "source": [
    "t0_vel = 0\n",
    "y0_vel  = all_curve_functions['bezier_cubics'][0](0)\n",
    "t_bound_vel = 1\n",
    "Pos = RK45(get_vel_approximated(velocities, acc_ts), t0_vel, y0_vel, t_bound_vel)"
   ]
  },
  {
   "cell_type": "code",
   "execution_count": null,
   "metadata": {},
   "outputs": [],
   "source": []
  },
  {
   "cell_type": "markdown",
   "metadata": {},
   "source": [
    "# Deprecated Functions "
   ]
  },
  {
   "cell_type": "code",
   "execution_count": 101,
   "metadata": {},
   "outputs": [
    {
     "ename": "IndentationError",
     "evalue": "unexpected indent (<ipython-input-101-88d33de8677f>, line 75)",
     "output_type": "error",
     "traceback": [
      "\u001b[1;36m  File \u001b[1;32m\"<ipython-input-101-88d33de8677f>\"\u001b[1;36m, line \u001b[1;32m75\u001b[0m\n\u001b[1;33m    for t1 in np.linspace(0, n, sample_count * n * 100):\u001b[0m\n\u001b[1;37m    ^\u001b[0m\n\u001b[1;31mIndentationError\u001b[0m\u001b[1;31m:\u001b[0m unexpected indent\n"
     ]
    }
   ],
   "source": [
    "'''\n",
    "# formular for the energy\n",
    "def energy(bezier_cubic_first_deriv, bezier_cubic):\n",
    "    return lambda t: 1/2 * get_mass() * np.power(bezier_cubic_first_deriv(t), 2) + get_mass() * np.dot(bezier_cubic(t), get_gravity())\n",
    "\n",
    "# This functions returns the velocity in parametric space\n",
    "def parametric_velocity(energy, bezier_cubic, bezier_cubic_first_deriv):\n",
    "    return lambda t: np.sqrt((2* (energy(t) - get_mass() * np.dot(bezier_cubic(t), get_gravity()) )) / (get_mass() * np.power(bezier_cubic_first_deriv(t), 2)))\n",
    "\n",
    "# This functions returns the acceleration in parametric space\n",
    "#def parametric_acceleration(bezier_cubic, parametric_velocity, bezier_cubic_first_deriv, bezier_cubic_second_deriv):\n",
    "    return lambda t,x: -(np.dot(bezier_cubic(t), get_gravity()) + np.power(parametric_velocity(t),2) * np.dot(bezier_cubic_first_deriv(t), bezier_cubic_second_deriv(t))) / np.power(bezier_cubic_first_deriv(t),2)\n",
    "\n",
    "\n",
    "\n",
    "# this function simulates the acceleration for a specific curve in the rollercoaster\n",
    "def acceleration(bezier_cubic_first_deriv, bezier_cubic_second_deriv):\n",
    "    return lambda t, s_dot:  - ((np.dot(bezier_cubic_first_deriv(t), get_gravity()) + s_dot * np.dot(bezier_cubic_first_deriv(t), bezier_cubic_second_deriv(t)))/ np.power(bezier_cubic_first_deriv(t),2))\n",
    "'''\n",
    "# return one cubic curve for each consecutive points\n",
    "'''\n",
    "def get_bezier_cubic(points):\n",
    "    A, B = get_bezier_coef(points)\n",
    "    return [\n",
    "        bezier_cubic(points[i], A[i], B[i], points[(i + 1)% len(points)])\n",
    "        for i in range(len(points))\n",
    "    ]\n",
    "'''\n",
    "'''\n",
    "def get_dynamic_behaviour(functions, n, sample_count=100):\n",
    "    energies = []\n",
    "    velocities = []\n",
    "    accelerations = []\n",
    "    for t in np.linspace(0, n, sample_count * n):\n",
    "        seperated_t = math.modf(t%n)\n",
    "        segment_index = int(seperated_t[1])\n",
    "        curve_index = seperated_t[0]\n",
    "\n",
    "    \n",
    "    energies = np.array(energies)\n",
    "    velocities = np.array(velocities)\n",
    "    accelerations = np.array(accelerations)\n",
    "    \n",
    "    return energies, velocities, accelerations\n",
    "    \n",
    "    #print(\"Energy: \", functions['energy_functions'][0](t))\n",
    "    print(\"Velocity: \", functions['parametric_velocity_functions'][0](t))\n",
    "    print(\"Acceleration: \", functions['parametric_acceleration_functions'][0](t))\n",
    "'''\n",
    "def get_curve_points(bezier_cubics, n, sample_count=100):\n",
    "    curve_points = []\n",
    "    for t in np.linspace(0, n, sample_count * n):\n",
    "        seperated_t = math.modf(t%n)\n",
    "        segment_index = int(seperated_t[1])\n",
    "        curve_index = seperated_t[0]\n",
    "        current_curve = bezier_cubics[segment_index]\n",
    "        current_curve_point = current_curve(curve_index)\n",
    "        curve_points.append(np.array(current_curve_point))\n",
    "    return np.array(curve_points)\n",
    "\n",
    "\n",
    "def get_curve_speeds(bezier_cubics_first_derivatives, n, sample_count=100):\n",
    "    curve_points = []\n",
    "    for t in np.linspace(0, n, sample_count * n):\n",
    "        seperated_t = math.modf(t%n)\n",
    "        segment_index = int(seperated_t[1])\n",
    "        curve_index = seperated_t[0]\n",
    "        current_curve = bezier_cubics_first_derivatives[segment_index]\n",
    "        current_curve_point = current_curve(curve_index)\n",
    "        curve_points.append(np.array(current_curve_point))\n",
    "    return np.array(curve_points)\n",
    "    \n",
    "    \n",
    "    \n",
    "        for t1 in np.linspace(0, n, sample_count * n * 100):\n",
    "        seperated_t1 = math.modf(t1%n)\n",
    "        segment_index_1 = int(seperated_t1[1])\n",
    "        curve_index_1 = seperated_t1[0]\n",
    "        # here calculate all the values for the current t\n",
    "        # curve point (pure geometry)\n",
    "        current_curve_point_1 = all_curve_functions['bezier_cubics'][segment_index_1](curve_index_1) \n",
    "        \n",
    "        # get approximated length of the curve at t\n",
    "        current_length = abs(float(np.linalg.norm(current_curve_point_1 - last_curve_point)))\n",
    "\n",
    "        total_length = last_length + current_length\n",
    "        last_curve_point = current_curve_point\n",
    "\n",
    "        length_of_curve_at_t.append(total_length)\n",
    "        #last_euclidean_norm = current_euclidean_norm\n",
    "        last_length = total_length\n",
    "    # create an index I evenly distributet over the Length Values         \n",
    "    i_max = n\n",
    "    I = []\n",
    "    total = length_of_curve_at_t[len(length_of_curve_at_t)-1]\n",
    "    \n",
    "    for loc in length_of_curve_at_t:\n",
    "        percentage = loc/total\n",
    "        I.append(round(n*percentage,10))\n",
    "   \n",
    "    ideal = {}        \n",
    "    not_assigned = []\n",
    "    counter = len(I)\n",
    "    for index, i in enumerate(np.linspace(0,n,sample_count * n)):\n",
    "        percentage_of_i = i/n\n",
    "        \n",
    "        found_matching = False\n",
    "        \n",
    "        for loc in length_of_curve_at_t:\n",
    "            percentage_of_length = loc/total\n",
    "            \n",
    "            if (percentage_of_i == percentage_of_length):\n",
    "                ideal[percentage_of_i] = percentage_of_length\n",
    "                found_matching = True\n",
    "        \n",
    "        if (not found_matching):\n",
    "            not_assigned.append(i)\n",
    "\n",
    "    \n",
    "    \n",
    "'''\n",
    "    "
   ]
  },
  {
   "cell_type": "markdown",
   "metadata": {},
   "source": [
    "## Code for drawing acceleration and speed vectors  "
   ]
  },
  {
   "cell_type": "code",
   "execution_count": 102,
   "metadata": {},
   "outputs": [
    {
     "data": {
      "text/plain": [
       "\"\\nu_vel = data['speed'][num, 0]\\nv_vel = data['speed'][num, 1]\\nw_vel = data['speed'][num, 2]    \\n\\nglobal speed_vector\\nspeed_vector.remove()\\nspeed_vector = plt.quiver(x,y,z,u_vel,v_vel,w_vel, length=0.5, color='g' )\\n\\nu_acc = data['acceleration'][num, 0]\\nv_acc = data['acceleration'][num, 1]\\nw_acc = data['acceleration'][num, 2]\\n\\nglobal acceleration_vector\\nacceleration_vector.remove()\\nacceleration_vector = plt.quiver(x,y,z, u_acc, v_acc, w_acc, length=0.5, color='r')\\n\""
      ]
     },
     "execution_count": 102,
     "metadata": {},
     "output_type": "execute_result"
    }
   ],
   "source": [
    "    '''\n",
    "    u_vel = data['speed'][num, 0]\n",
    "    v_vel = data['speed'][num, 1]\n",
    "    w_vel = data['speed'][num, 2]    \n",
    "    \n",
    "    global speed_vector\n",
    "    speed_vector.remove()\n",
    "    speed_vector = plt.quiver(x,y,z,u_vel,v_vel,w_vel, length=0.5, color='g' )\n",
    "\n",
    "    u_acc = data['acceleration'][num, 0]\n",
    "    v_acc = data['acceleration'][num, 1]\n",
    "    w_acc = data['acceleration'][num, 2]\n",
    "    \n",
    "    global acceleration_vector\n",
    "    acceleration_vector.remove()\n",
    "    acceleration_vector = plt.quiver(x,y,z, u_acc, v_acc, w_acc, length=0.5, color='r')\n",
    "    '''"
   ]
  },
  {
   "cell_type": "markdown",
   "metadata": {},
   "source": [
    "## Plotting the samples"
   ]
  }
 ],
 "metadata": {
  "kernelspec": {
   "display_name": "Python 3",
   "language": "python",
   "name": "python3"
  },
  "language_info": {
   "codemirror_mode": {
    "name": "ipython",
    "version": 3
   },
   "file_extension": ".py",
   "mimetype": "text/x-python",
   "name": "python",
   "nbconvert_exporter": "python",
   "pygments_lexer": "ipython3",
   "version": "3.7.6"
  }
 },
 "nbformat": 4,
 "nbformat_minor": 5
}
